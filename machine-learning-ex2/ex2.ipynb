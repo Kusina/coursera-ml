{
 "cells": [
  {
   "cell_type": "markdown",
   "metadata": {
    "button": false,
    "deletable": true,
    "new_sheet": false,
    "run_control": {
     "read_only": false
    }
   },
   "source": [
    "## Logistic regression"
   ]
  },
  {
   "cell_type": "code",
   "execution_count": 2,
   "metadata": {
    "button": false,
    "collapsed": false,
    "deletable": true,
    "new_sheet": false,
    "run_control": {
     "read_only": false
    }
   },
   "outputs": [],
   "source": [
    "%matplotlib inline\n",
    "import matplotlib.pyplot as plt\n",
    "import numpy as np\n",
    "from sklearn.linear_model import LogisticRegression\n",
    "from sklearn.multiclass import OneVsRestClassifier"
   ]
  },
  {
   "cell_type": "code",
   "execution_count": 3,
   "metadata": {
    "button": false,
    "collapsed": false,
    "deletable": true,
    "new_sheet": false,
    "run_control": {
     "read_only": false
    }
   },
   "outputs": [],
   "source": [
    "datafile = 'ex2/ex2data1.txt'\n",
    "data = np.loadtxt(datafile, delimiter=',', usecols=(0,1,2), unpack=True)"
   ]
  },
  {
   "cell_type": "code",
   "execution_count": 4,
   "metadata": {
    "button": false,
    "collapsed": false,
    "deletable": true,
    "new_sheet": false,
    "run_control": {
     "read_only": false
    }
   },
   "outputs": [],
   "source": [
    "X = np.column_stack((data[0], data[1]))\n",
    "y = data[2].reshape(100, 1)"
   ]
  },
  {
   "cell_type": "code",
   "execution_count": 5,
   "metadata": {
    "button": false,
    "collapsed": false,
    "deletable": true,
    "new_sheet": false,
    "run_control": {
     "read_only": false
    }
   },
   "outputs": [],
   "source": [
    "# Split the data into training/testing sets\n",
    "X_train = X[:-20]\n",
    "X_test = X[-20:]"
   ]
  },
  {
   "cell_type": "code",
   "execution_count": 6,
   "metadata": {
    "button": false,
    "collapsed": false,
    "deletable": true,
    "new_sheet": false,
    "run_control": {
     "read_only": false
    }
   },
   "outputs": [],
   "source": [
    "# Split the targets into training/testing sets\n",
    "y_train = y[:-20]\n",
    "y_test = y[-20:]"
   ]
  },
  {
   "cell_type": "code",
   "execution_count": 7,
   "metadata": {
    "button": false,
    "collapsed": false,
    "deletable": true,
    "new_sheet": false,
    "run_control": {
     "read_only": false
    }
   },
   "outputs": [],
   "source": [
    "# Create linear regression object\n",
    "classifier = OneVsRestClassifier(LogisticRegression())"
   ]
  },
  {
   "cell_type": "code",
   "execution_count": 8,
   "metadata": {
    "button": false,
    "collapsed": false,
    "deletable": true,
    "new_sheet": false,
    "run_control": {
     "read_only": false
    }
   },
   "outputs": [
    {
     "data": {
      "text/plain": [
       "OneVsRestClassifier(estimator=LogisticRegression(C=1.0, class_weight=None, dual=False, fit_intercept=True,\n",
       "          intercept_scaling=1, max_iter=100, multi_class='ovr', n_jobs=1,\n",
       "          penalty='l2', random_state=None, solver='liblinear', tol=0.0001,\n",
       "          verbose=0, warm_start=False),\n",
       "          n_jobs=1)"
      ]
     },
     "execution_count": 8,
     "metadata": {},
     "output_type": "execute_result"
    }
   ],
   "source": [
    "# Train the model using the training sets\n",
    "classifier.fit(X_train, y_train)"
   ]
  },
  {
   "cell_type": "code",
   "execution_count": 9,
   "metadata": {
    "button": false,
    "collapsed": false,
    "deletable": true,
    "new_sheet": false,
    "run_control": {
     "read_only": false
    }
   },
   "outputs": [
    {
     "name": "stdout",
     "output_type": "stream",
     "text": [
      "Coefficient:  [[ 0.03218681  0.02895144]]\n",
      "Intercept\"  [[-3.55005506]]\n",
      "Residual sum of squares: 0.22\n",
      "Variance score: 0.95\n"
     ]
    }
   ],
   "source": [
    "coef = classifier.coef_\n",
    "intercept = classifier.intercept_\n",
    "\n",
    "print \"Coefficient: \", coef\n",
    "print 'Intercept\" ', intercept\n",
    "print \"Residual sum of squares: %.2f\" % np.mean((classifier.predict(X_test) - y_test) ** 2)\n",
    "print 'Variance score: %.2f' % classifier.score(X_test, y_test)"
   ]
  },
  {
   "cell_type": "code",
   "execution_count": 10,
   "metadata": {
    "button": false,
    "collapsed": false,
    "deletable": true,
    "new_sheet": false,
    "run_control": {
     "read_only": false
    }
   },
   "outputs": [
    {
     "data": {
      "image/png": "[encoded data removed]",
      "text/plain": [
       "<matplotlib.figure.Figure at 0x10f2926d0>"
      ]
     },
     "metadata": {},
     "output_type": "display_data"
    }
   ],
   "source": [
    "admitted = y == 1\n",
    "rejected = y == 0\n",
    "\n",
    "plt.figure(figsize=(7, 7))\n",
    "plt.scatter(np.extract(admitted, data[0]), \n",
    "            np.extract(admitted, data[1]), \n",
    "            c='b', marker='+', label='admitted')\n",
    "plt.scatter(np.extract(rejected, data[0]), \n",
    "            np.extract(rejected, data[1]), \n",
    "            c='y', marker='o', label='rejected')\n",
    "plt.xlabel('Exam 1 score');\n",
    "plt.ylabel('Exam 2 score');\n",
    "plt.axes().set_aspect('equal', 'datalim')\n",
    "plt.legend();\n",
    "\n",
    "ex1 = np.linspace(30, 100, 100)\n",
    "ex2 = -(coef[:, 0] * ex1 + intercept[:, 0]) / coef[:,1]\n",
    "plt.plot(ex1, ex2, color='r', label='decision boundary');"
   ]
  },
  {
   "cell_type": "code",
   "execution_count": 11,
   "metadata": {
    "button": false,
    "collapsed": false,
    "deletable": true,
    "new_sheet": false,
    "run_control": {
     "read_only": false
    }
   },
   "outputs": [
    {
     "name": "stdout",
     "output_type": "stream",
     "text": [
      "For a student with scores 45 and 85, we predict an admission probability of 0.588853\n"
     ]
    }
   ],
   "source": [
    "theta = np.concatenate((intercept[0], coef[0]), axis=0)\n",
    "freq = 1 / (1 + np.exp(-1 * np.dot(theta, [1, 45, 85])))\n",
    "print \"For a student with scores 45 and 85, we predict an admission probability of %f\" % freq"
   ]
  },
  {
   "cell_type": "markdown",
   "metadata": {
    "button": false,
    "collapsed": true,
    "deletable": true,
    "new_sheet": false,
    "run_control": {
     "read_only": false
    }
   },
   "source": [
    "## Regularized logistic regression"
   ]
  },
  {
   "cell_type": "code",
   "execution_count": 12,
   "metadata": {
    "collapsed": false
   },
   "outputs": [],
   "source": [
    "datafile = 'ex2/ex2data2.txt'\n",
    "data = np.loadtxt(datafile, delimiter=',', usecols=(0,1,2), unpack=True)"
   ]
  },
  {
   "cell_type": "code",
   "execution_count": 17,
   "metadata": {
    "collapsed": true
   },
   "outputs": [],
   "source": [
    "def map_features(f1, f2, order=1):\n",
    "    '''Map f1 and f2 to its higher order polynomial'''\n",
    "    assert order >= 1\n",
    "    def iter():\n",
    "        for i in range(1, order + 1):\n",
    "            for j in range(i + 1):\n",
    "                yield np.power(f1, i - j) * np.power(f2, j)\n",
    "    return np.vstack(iter())"
   ]
  },
  {
   "cell_type": "code",
   "execution_count": 29,
   "metadata": {
    "collapsed": false
   },
   "outputs": [],
   "source": [
    "out = map_features(data[0], data[1], order=6)\n",
    "X = out.transpose()\n",
    "y = data[2].reshape(118, 1)"
   ]
  },
  {
   "cell_type": "code",
   "execution_count": 30,
   "metadata": {
    "collapsed": true
   },
   "outputs": [],
   "source": [
    "# Split the data into training/testing sets\n",
    "X_train = X[:-20]\n",
    "X_test = X[-20:]"
   ]
  },
  {
   "cell_type": "code",
   "execution_count": 31,
   "metadata": {
    "collapsed": true
   },
   "outputs": [],
   "source": [
    "# Split the targets into training/testing sets\n",
    "y_train = y[:-20]\n",
    "y_test = y[-20:]"
   ]
  },
  {
   "cell_type": "code",
   "execution_count": 36,
   "metadata": {
    "collapsed": false
   },
   "outputs": [
    {
     "name": "stdout",
     "output_type": "stream",
     "text": [
      "Coefficents:  [[ 0.04120363  0.81101487 -1.45037113 -0.45845393 -1.34568536 -0.0512512\n",
      "  -0.28895897 -0.40553482 -0.16824519 -1.23058302  0.04489022 -0.54190083\n",
      "  -0.11049438 -1.14228298 -0.34339153 -0.13120468 -0.03721863 -0.22097743\n",
      "  -0.28334575 -0.38375011 -0.95830058  0.05344983 -0.24298371  0.06209436\n",
      "  -0.2980842  -0.07238779 -0.85378223]]\n",
      "Intercept:  [[ 1.49202505]]\n",
      "Accuracy:  0.737288135593\n"
     ]
    }
   ],
   "source": [
    "# Logistic regression with lambda = 1 (C = 1/lambda)\n",
    "classifier = OneVsRestClassifier(LogisticRegression(C=1))\n",
    "# Train the model using the training sets\n",
    "classifier.fit(X_train, y_train)\n",
    "print 'Coefficents: ', classifier.coef_\n",
    "print 'Intercept: ', classifier.intercept_\n",
    "print 'Accuracy: ', classifier.score(X, y)"
   ]
  },
  {
   "cell_type": "code",
   "execution_count": 37,
   "metadata": {
    "collapsed": false
   },
   "outputs": [
    {
     "data": {
      "image/png": "[encoded data removed]",
      "text/plain": [
       "<matplotlib.figure.Figure at 0x10f6a3990>"
      ]
     },
     "metadata": {},
     "output_type": "display_data"
    }
   ],
   "source": [
    "accepted = y == 1\n",
    "rejected = y == 0\n",
    "\n",
    "plt.figure(figsize=(6, 6))\n",
    "plt.scatter(np.extract(accepted, data[0]), \n",
    "            np.extract(accepted, data[1]), \n",
    "            c='b', marker='+', label='accepted')\n",
    "plt.scatter(np.extract(rejected, data[0]), \n",
    "            np.extract(rejected, data[1]), \n",
    "            c='y', marker='o', label='rejected')\n",
    "plt.xlabel('Microchip Test 1');\n",
    "plt.ylabel('Microchip Test 2');\n",
    "plt.axes().set_aspect('equal', 'datalim')\n",
    "plt.legend();\n",
    "\n",
    "dim = np.linspace(-1, 1.5, 1000)\n",
    "dx, dy = np.meshgrid(dim, dim)\n",
    "v = map_features(dx.flatten(), dy.flatten(), order=6)\n",
    "z = (np.dot(classifier.coef_, v) + classifier.intercept_).reshape(1000, 1000)\n",
    "CS = plt.contour(dx, dy, z, levels=[0], colors=['r'])"
   ]
  },
  {
   "cell_type": "code",
   "execution_count": null,
   "metadata": {
    "collapsed": true
   },
   "outputs": [],
   "source": []
  }
 ],
 "metadata": {
  "kernelspec": {
   "display_name": "Python 2",
   "language": "python",
   "name": "python2"
  },
  "language_info": {
   "codemirror_mode": {
    "name": "ipython",
    "version": 2
   },
   "file_extension": ".py",
   "mimetype": "text/x-python",
   "name": "python",
   "nbconvert_exporter": "python",
   "pygments_lexer": "ipython2",
   "version": "2.7.11"
  }
 },
 "nbformat": 4,
 "nbformat_minor": 0
}
